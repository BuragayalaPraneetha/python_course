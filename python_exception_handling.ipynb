{
 "cells": [
  {
   "cell_type": "code",
   "execution_count": 4,
   "metadata": {},
   "outputs": [
    {
     "name": "stdout",
     "output_type": "stream",
     "text": [
      "some problem may occured\n"
     ]
    }
   ],
   "source": [
    "try:\n",
    "    # code block where exception can occur\n",
    "    a=b\n",
    "except:\n",
    "    print(\"some problem may occured\")\n"
   ]
  },
  {
   "cell_type": "code",
   "execution_count": 5,
   "metadata": {},
   "outputs": [
    {
     "name": "stdout",
     "output_type": "stream",
     "text": [
      "name 'b' is not defined\n"
     ]
    }
   ],
   "source": [
    "try:\n",
    "    # code block where exception can occur\n",
    "    a=b\n",
    "except Exception as ex:\n",
    "    print(ex)"
   ]
  },
  {
   "cell_type": "code",
   "execution_count": 21,
   "metadata": {},
   "outputs": [
    {
     "name": "stdout",
     "output_type": "stream",
     "text": [
      "0.5\n"
     ]
    }
   ],
   "source": [
    "try:\n",
    "    a = int(input(\"enter val1\"))\n",
    "    b = int(input(\"enter val2\"))\n",
    "    c = a/b\n",
    "    print(c)\n",
    " \n",
    "except TypeError:\n",
    "    print(\"try to make the datatype similar\")\n",
    "\n",
    "except ZeroDivisionError:\n",
    "    print(\"pls provide num greater than zero\")\n",
    "\n",
    "\n",
    "except Exception as ex:\n",
    "    print(ex)"
   ]
  },
  {
   "cell_type": "code",
   "execution_count": 22,
   "metadata": {},
   "outputs": [],
   "source": [
    "#try else finally\n"
   ]
  },
  {
   "cell_type": "code",
   "execution_count": 23,
   "metadata": {},
   "outputs": [
    {
     "name": "stdout",
     "output_type": "stream",
     "text": [
      "6.0\n",
      "6.0\n",
      "the execution done \n"
     ]
    }
   ],
   "source": [
    "try:\n",
    "    a = int(input(\"enter val1\"))\n",
    "    b = int(input(\"enter val2\"))\n",
    "    c = a/b\n",
    "    print(c)\n",
    " \n",
    "except TypeError:\n",
    "    print(\"try to make the datatype similar\")\n",
    "\n",
    "except ZeroDivisionError:\n",
    "    print(\"pls provide num greater than zero\")\n",
    "\n",
    "except Exception as ex:\n",
    "    print(ex)\n",
    "\n",
    "else:\n",
    "    print(c)\n",
    "\n",
    "finally:\n",
    "    print(\"the execution done \")\n",
    "\n",
    "\n",
    "\n"
   ]
  },
  {
   "cell_type": "markdown",
   "metadata": {},
   "source": [
    "Custom Exception:"
   ]
  },
  {
   "cell_type": "code",
   "execution_count": 30,
   "metadata": {},
   "outputs": [],
   "source": [
    "class Error(Exception):#inheritiing exception class in error class\n",
    "    pass\n",
    "class dobException(Error):\n",
    "    pass"
   ]
  },
  {
   "cell_type": "code",
   "execution_count": 31,
   "metadata": {},
   "outputs": [
    {
     "name": "stdout",
     "output_type": "stream",
     "text": [
      "this year age is not vaild\n"
     ]
    }
   ],
   "source": [
    "year=int(input(\"enter the year of birth\"))\n",
    "age=2024 - year\n",
    "try:\n",
    "    if age <= 30 & age>20:\n",
    "        print(\"u can write the exams\")\n",
    "    else:\n",
    "        raise dobException #rasinging coustom exception\n",
    "except dobException:\n",
    "    print(\"this year age is not vaild\")\n"
   ]
  },
  {
   "cell_type": "code",
   "execution_count": null,
   "metadata": {},
   "outputs": [],
   "source": []
  },
  {
   "cell_type": "code",
   "execution_count": null,
   "metadata": {},
   "outputs": [],
   "source": []
  }
 ],
 "metadata": {
  "kernelspec": {
   "display_name": "Python 3",
   "language": "python",
   "name": "python3"
  },
  "language_info": {
   "codemirror_mode": {
    "name": "ipython",
    "version": 3
   },
   "file_extension": ".py",
   "mimetype": "text/x-python",
   "name": "python",
   "nbconvert_exporter": "python",
   "pygments_lexer": "ipython3",
   "version": "3.9.0"
  }
 },
 "nbformat": 4,
 "nbformat_minor": 2
}
