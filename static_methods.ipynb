{
 "cells": [
  {
   "cell_type": "code",
   "execution_count": 6,
   "metadata": {},
   "outputs": [],
   "source": [
    "import datetime\n",
    "now = datetime.datetime.now()"
   ]
  },
  {
   "cell_type": "code",
   "execution_count": 7,
   "metadata": {},
   "outputs": [],
   "source": [
    "class Car:\n",
    "    base_price= 100000 ## class variables \n",
    "    def __init__(self,windows,doors,power):\n",
    "        self.windows = windows\n",
    "        self.doors= doors\n",
    "        self.power = power\n",
    "    def what_base_price(self):\n",
    "        print(\"the base price is {}\".format(self.base_price))\n",
    "\n",
    "    @classmethod #have to give parameter as class bcz its a class method\n",
    "\n",
    "    def revise_base_price(cls,infaltion):\n",
    "        cls.base_price=cls.base_price+ cls.base_price*infaltion\n",
    "    \n",
    "    @staticmethod\n",
    "    def check_year():\n",
    "        if now.year==2024:\n",
    "            return True\n",
    "        else:\n",
    "            return False\n",
    "    \n",
    "        "
   ]
  },
  {
   "cell_type": "code",
   "execution_count": 8,
   "metadata": {},
   "outputs": [
    {
     "data": {
      "text/plain": [
       "True"
      ]
     },
     "execution_count": 8,
     "metadata": {},
     "output_type": "execute_result"
    }
   ],
   "source": [
    "Car.check_year()"
   ]
  },
  {
   "cell_type": "code",
   "execution_count": null,
   "metadata": {},
   "outputs": [],
   "source": []
  }
 ],
 "metadata": {
  "kernelspec": {
   "display_name": "Python 3",
   "language": "python",
   "name": "python3"
  },
  "language_info": {
   "codemirror_mode": {
    "name": "ipython",
    "version": 3
   },
   "file_extension": ".py",
   "mimetype": "text/x-python",
   "name": "python",
   "nbconvert_exporter": "python",
   "pygments_lexer": "ipython3",
   "version": "3.9.0"
  }
 },
 "nbformat": 4,
 "nbformat_minor": 2
}
