{
 "cells": [
  {
   "cell_type": "code",
   "execution_count": 1,
   "id": "f609f83c",
   "metadata": {},
   "outputs": [
    {
     "ename": "NameError",
     "evalue": "name 'tupe' is not defined",
     "output_type": "error",
     "traceback": [
      "\u001b[1;31m---------------------------------------------------------------------------\u001b[0m",
      "\u001b[1;31mNameError\u001b[0m                                 Traceback (most recent call last)",
      "Cell \u001b[1;32mIn[1], line 1\u001b[0m\n\u001b[1;32m----> 1\u001b[0m tupe(\u001b[38;5;124m\"\u001b[39m\u001b[38;5;124ma\u001b[39m\u001b[38;5;124m\"\u001b[39m)\n",
      "\u001b[1;31mNameError\u001b[0m: name 'tupe' is not defined"
     ]
    }
   ],
   "source": [
    "tupe(\"a\")"
   ]
  },
  {
   "cell_type": "code",
   "execution_count": 2,
   "id": "cf5c547e",
   "metadata": {},
   "outputs": [
    {
     "data": {
      "text/plain": [
       "str"
      ]
     },
     "execution_count": 2,
     "metadata": {},
     "output_type": "execute_result"
    }
   ],
   "source": [
    "type(\"a\")"
   ]
  },
  {
   "cell_type": "code",
   "execution_count": 3,
   "id": "2256522c",
   "metadata": {},
   "outputs": [
    {
     "data": {
      "text/plain": [
       "str"
      ]
     },
     "execution_count": 3,
     "metadata": {},
     "output_type": "execute_result"
    }
   ],
   "source": [
    "type(\"krishna naik\")"
   ]
  },
  {
   "cell_type": "code",
   "execution_count": 4,
   "id": "8fd874b0",
   "metadata": {},
   "outputs": [
    {
     "data": {
      "text/plain": [
       "False"
      ]
     },
     "execution_count": 4,
     "metadata": {},
     "output_type": "execute_result"
    }
   ],
   "source": [
    "bool()"
   ]
  },
  {
   "cell_type": "code",
   "execution_count": 5,
   "id": "c5cb4652",
   "metadata": {},
   "outputs": [],
   "source": [
    "my_string=\"pranee\""
   ]
  },
  {
   "cell_type": "code",
   "execution_count": 6,
   "id": "e48269d0",
   "metadata": {},
   "outputs": [
    {
     "ename": "NameError",
     "evalue": "name 'my_str' is not defined",
     "output_type": "error",
     "traceback": [
      "\u001b[1;31m---------------------------------------------------------------------------\u001b[0m",
      "\u001b[1;31mNameError\u001b[0m                                 Traceback (most recent call last)",
      "Cell \u001b[1;32mIn[6], line 1\u001b[0m\n\u001b[1;32m----> 1\u001b[0m \u001b[38;5;28mprint\u001b[39m(my_str\u001b[38;5;241m.\u001b[39mstartwith(\u001b[38;5;124m'\u001b[39m\u001b[38;5;124mp\u001b[39m\u001b[38;5;124m'\u001b[39m))\n",
      "\u001b[1;31mNameError\u001b[0m: name 'my_str' is not defined"
     ]
    }
   ],
   "source": [
    "print(my_str.startwith('p'))"
   ]
  },
  {
   "cell_type": "code",
   "execution_count": 7,
   "id": "1e8bad6f",
   "metadata": {},
   "outputs": [
    {
     "data": {
      "text/plain": [
       "True"
      ]
     },
     "execution_count": 7,
     "metadata": {},
     "output_type": "execute_result"
    }
   ],
   "source": [
    "True or True"
   ]
  },
  {
   "cell_type": "code",
   "execution_count": 8,
   "id": "20558d18",
   "metadata": {},
   "outputs": [
    {
     "data": {
      "text/plain": [
       "list"
      ]
     },
     "execution_count": 8,
     "metadata": {},
     "output_type": "execute_result"
    }
   ],
   "source": [
    "type([])"
   ]
  },
  {
   "cell_type": "code",
   "execution_count": 16,
   "id": "fd278e58",
   "metadata": {},
   "outputs": [],
   "source": [
    "lst_example = []"
   ]
  },
  {
   "cell_type": "code",
   "execution_count": 17,
   "id": "18aabb91",
   "metadata": {},
   "outputs": [
    {
     "data": {
      "text/plain": [
       "list"
      ]
     },
     "execution_count": 17,
     "metadata": {},
     "output_type": "execute_result"
    }
   ],
   "source": [
    "type(lst_example)"
   ]
  },
  {
   "cell_type": "code",
   "execution_count": 18,
   "id": "74a9dd35",
   "metadata": {},
   "outputs": [],
   "source": [
    "lst=[\"mathematics\",\"chemistry\", 100, 200]"
   ]
  },
  {
   "cell_type": "code",
   "execution_count": 19,
   "id": "625dc347",
   "metadata": {},
   "outputs": [],
   "source": [
    "lst.append(\"krish\")"
   ]
  },
  {
   "cell_type": "code",
   "execution_count": 20,
   "id": "c73c1356",
   "metadata": {},
   "outputs": [
    {
     "data": {
      "text/plain": [
       "['mathematics', 'chemistry', 100, 200, 'krish']"
      ]
     },
     "execution_count": 20,
     "metadata": {},
     "output_type": "execute_result"
    }
   ],
   "source": [
    "lst"
   ]
  },
  {
   "cell_type": "code",
   "execution_count": 21,
   "id": "179258a3",
   "metadata": {},
   "outputs": [
    {
     "data": {
      "text/plain": [
       "['chemistry', 100, 200, 'krish']"
      ]
     },
     "execution_count": 21,
     "metadata": {},
     "output_type": "execute_result"
    }
   ],
   "source": [
    "lst[1:]"
   ]
  },
  {
   "cell_type": "code",
   "execution_count": 22,
   "id": "f9102b82",
   "metadata": {},
   "outputs": [
    {
     "data": {
      "text/plain": [
       "['mathematics', 'chemistry', 100, 200, 'krish']"
      ]
     },
     "execution_count": 22,
     "metadata": {},
     "output_type": "execute_result"
    }
   ],
   "source": [
    "lst[:]"
   ]
  },
  {
   "cell_type": "code",
   "execution_count": 23,
   "id": "56449e2c",
   "metadata": {},
   "outputs": [],
   "source": [
    "lst.append([\"pranee\",\"praneetha\"])"
   ]
  },
  {
   "cell_type": "code",
   "execution_count": 24,
   "id": "0f9b5b05",
   "metadata": {},
   "outputs": [
    {
     "data": {
      "text/plain": [
       "['mathematics', 'chemistry', 100, 200, 'krish', ['pranee', 'praneetha']]"
      ]
     },
     "execution_count": 24,
     "metadata": {},
     "output_type": "execute_result"
    }
   ],
   "source": [
    "lst[:]"
   ]
  },
  {
   "cell_type": "code",
   "execution_count": 25,
   "id": "219b2c14",
   "metadata": {},
   "outputs": [],
   "source": [
    "lst.insert(1,\"liki\")"
   ]
  },
  {
   "cell_type": "code",
   "execution_count": 26,
   "id": "8860216c",
   "metadata": {},
   "outputs": [
    {
     "data": {
      "text/plain": [
       "['mathematics',\n",
       " 'liki',\n",
       " 'chemistry',\n",
       " 100,\n",
       " 200,\n",
       " 'krish',\n",
       " ['pranee', 'praneetha']]"
      ]
     },
     "execution_count": 26,
     "metadata": {},
     "output_type": "execute_result"
    }
   ],
   "source": [
    "lst[:]"
   ]
  },
  {
   "cell_type": "code",
   "execution_count": 27,
   "id": "a222da0a",
   "metadata": {},
   "outputs": [
    {
     "data": {
      "text/plain": [
       "['mathematics',\n",
       " 'liki',\n",
       " 'chemistry',\n",
       " 100,\n",
       " 200,\n",
       " 'krish',\n",
       " ['pranee', 'praneetha']]"
      ]
     },
     "execution_count": 27,
     "metadata": {},
     "output_type": "execute_result"
    }
   ],
   "source": [
    "lst"
   ]
  },
  {
   "cell_type": "code",
   "execution_count": 31,
   "id": "88d1f641",
   "metadata": {},
   "outputs": [],
   "source": [
    "lst.extend([1,2,3])"
   ]
  },
  {
   "cell_type": "code",
   "execution_count": null,
   "id": "301230c4",
   "metadata": {},
   "outputs": [],
   "source": []
  },
  {
   "cell_type": "code",
   "execution_count": 32,
   "id": "a0709e2b",
   "metadata": {},
   "outputs": [
    {
     "data": {
      "text/plain": [
       "['mathematics',\n",
       " 'liki',\n",
       " 'chemistry',\n",
       " 100,\n",
       " 200,\n",
       " 'krish',\n",
       " ['pranee', 'praneetha'],\n",
       " 1,\n",
       " 2,\n",
       " 3]"
      ]
     },
     "execution_count": 32,
     "metadata": {},
     "output_type": "execute_result"
    }
   ],
   "source": [
    "lst[:]"
   ]
  },
  {
   "cell_type": "code",
   "execution_count": 33,
   "id": "fae34737",
   "metadata": {},
   "outputs": [
    {
     "data": {
      "text/plain": [
       "3"
      ]
     },
     "execution_count": 33,
     "metadata": {},
     "output_type": "execute_result"
    }
   ],
   "source": [
    "lst.pop()"
   ]
  },
  {
   "cell_type": "code",
   "execution_count": 34,
   "id": "203457e9",
   "metadata": {},
   "outputs": [
    {
     "data": {
      "text/plain": [
       "2"
      ]
     },
     "execution_count": 34,
     "metadata": {},
     "output_type": "execute_result"
    }
   ],
   "source": [
    "lst.pop()"
   ]
  },
  {
   "cell_type": "code",
   "execution_count": 35,
   "id": "d5f0dc7e",
   "metadata": {},
   "outputs": [
    {
     "data": {
      "text/plain": [
       "1"
      ]
     },
     "execution_count": 35,
     "metadata": {},
     "output_type": "execute_result"
    }
   ],
   "source": [
    "lst.count(1)"
   ]
  },
  {
   "cell_type": "code",
   "execution_count": 36,
   "id": "594a09b1",
   "metadata": {},
   "outputs": [
    {
     "data": {
      "text/plain": [
       "8"
      ]
     },
     "execution_count": 36,
     "metadata": {},
     "output_type": "execute_result"
    }
   ],
   "source": [
    "len(lst)"
   ]
  },
  {
   "cell_type": "code",
   "execution_count": 37,
   "id": "1fdea5a0",
   "metadata": {},
   "outputs": [],
   "source": [
    "lst1=[1,2,3,4]"
   ]
  },
  {
   "cell_type": "code",
   "execution_count": 38,
   "id": "5b4e34ac",
   "metadata": {},
   "outputs": [
    {
     "data": {
      "text/plain": [
       "['mathematics',\n",
       " 'liki',\n",
       " 'chemistry',\n",
       " 100,\n",
       " 200,\n",
       " 'krish',\n",
       " ['pranee', 'praneetha'],\n",
       " 1,\n",
       " 'mathematics',\n",
       " 'liki',\n",
       " 'chemistry',\n",
       " 100,\n",
       " 200,\n",
       " 'krish',\n",
       " ['pranee', 'praneetha'],\n",
       " 1]"
      ]
     },
     "execution_count": 38,
     "metadata": {},
     "output_type": "execute_result"
    }
   ],
   "source": [
    "lst*2"
   ]
  },
  {
   "cell_type": "code",
   "execution_count": 39,
   "id": "6444bc91",
   "metadata": {},
   "outputs": [
    {
     "data": {
      "text/plain": [
       "[1, 2, 3, 4, 1, 2, 3, 4]"
      ]
     },
     "execution_count": 39,
     "metadata": {},
     "output_type": "execute_result"
    }
   ],
   "source": [
    "lst1*2"
   ]
  },
  {
   "cell_type": "code",
   "execution_count": null,
   "id": "dc3ad22e",
   "metadata": {},
   "outputs": [],
   "source": []
  }
 ],
 "metadata": {
  "kernelspec": {
   "display_name": "Python 3 (ipykernel)",
   "language": "python",
   "name": "python3"
  },
  "language_info": {
   "codemirror_mode": {
    "name": "ipython",
    "version": 3
   },
   "file_extension": ".py",
   "mimetype": "text/x-python",
   "name": "python",
   "nbconvert_exporter": "python",
   "pygments_lexer": "ipython3",
   "version": "3.11.3"
  }
 },
 "nbformat": 4,
 "nbformat_minor": 5
}
