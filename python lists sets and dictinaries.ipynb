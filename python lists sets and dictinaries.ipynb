{
 "cells": [
  {
   "cell_type": "code",
   "execution_count": 1,
   "id": "18526075",
   "metadata": {},
   "outputs": [
    {
     "name": "stdout",
     "output_type": "stream",
     "text": [
      "set()\n",
      "<class 'set'>\n"
     ]
    }
   ],
   "source": [
    "set_var = set()\n",
    "print (set_var)\n",
    "print(type(set_var))"
   ]
  },
  {
   "cell_type": "code",
   "execution_count": 3,
   "id": "b23bb899",
   "metadata": {},
   "outputs": [],
   "source": [
    "set_var={\"pranee\",\"liki\",\"liki\"}"
   ]
  },
  {
   "cell_type": "code",
   "execution_count": 4,
   "id": "00e71492",
   "metadata": {},
   "outputs": [
    {
     "data": {
      "text/plain": [
       "{'liki', 'pranee'}"
      ]
     },
     "execution_count": 4,
     "metadata": {},
     "output_type": "execute_result"
    }
   ],
   "source": [
    "set_var"
   ]
  },
  {
   "cell_type": "code",
   "execution_count": 5,
   "id": "3cd0eb9d",
   "metadata": {},
   "outputs": [],
   "source": [
    "#no indexing in set"
   ]
  },
  {
   "cell_type": "code",
   "execution_count": 6,
   "id": "cb3e422f",
   "metadata": {},
   "outputs": [],
   "source": [
    "#to add a element in sets use add"
   ]
  },
  {
   "cell_type": "code",
   "execution_count": 8,
   "id": "a911f171",
   "metadata": {},
   "outputs": [],
   "source": [
    "set_var.add(\"lion\")"
   ]
  },
  {
   "cell_type": "code",
   "execution_count": 9,
   "id": "4d41c5f4",
   "metadata": {},
   "outputs": [
    {
     "data": {
      "text/plain": [
       "{'liki', 'lion', 'pranee'}"
      ]
     },
     "execution_count": 9,
     "metadata": {},
     "output_type": "execute_result"
    }
   ],
   "source": [
    "set_var"
   ]
  },
  {
   "cell_type": "code",
   "execution_count": 11,
   "id": "3e10d534",
   "metadata": {},
   "outputs": [],
   "source": [
    "set1={\"raju\",\"rani\",\"manthri\"}\n",
    "set2={\"raju\",\"rani\",\"mantri\",\"kid\"}"
   ]
  },
  {
   "cell_type": "code",
   "execution_count": 12,
   "id": "67a34342",
   "metadata": {},
   "outputs": [
    {
     "data": {
      "text/plain": [
       "set()"
      ]
     },
     "execution_count": 12,
     "metadata": {},
     "output_type": "execute_result"
    }
   ],
   "source": [
    "set1.difference(set1)"
   ]
  },
  {
   "cell_type": "code",
   "execution_count": 13,
   "id": "52f77c4c",
   "metadata": {},
   "outputs": [
    {
     "data": {
      "text/plain": [
       "{'kid', 'mantri'}"
      ]
     },
     "execution_count": 13,
     "metadata": {},
     "output_type": "execute_result"
    }
   ],
   "source": [
    "set2.difference(set1)"
   ]
  },
  {
   "cell_type": "code",
   "execution_count": 17,
   "id": "563a8d40",
   "metadata": {},
   "outputs": [],
   "source": [
    "set1.difference_update(set2)"
   ]
  },
  {
   "cell_type": "code",
   "execution_count": 19,
   "id": "e0d430e9",
   "metadata": {
    "scrolled": true
   },
   "outputs": [
    {
     "name": "stdout",
     "output_type": "stream",
     "text": [
      "{'kid', 'raju', 'rani', 'mantri'}\n"
     ]
    }
   ],
   "source": [
    "print(set2)"
   ]
  },
  {
   "cell_type": "code",
   "execution_count": 20,
   "id": "e8e66b7e",
   "metadata": {},
   "outputs": [],
   "source": [
    "dic={}"
   ]
  },
  {
   "cell_type": "code",
   "execution_count": 21,
   "id": "2d0b8332",
   "metadata": {},
   "outputs": [],
   "source": [
    "my_dict={\"pranee\": '1',\"liki\":\"2\"}"
   ]
  },
  {
   "cell_type": "code",
   "execution_count": 22,
   "id": "7f22dae1",
   "metadata": {},
   "outputs": [
    {
     "data": {
      "text/plain": [
       "'2'"
      ]
     },
     "execution_count": 22,
     "metadata": {},
     "output_type": "execute_result"
    }
   ],
   "source": [
    "my_dict[\"liki\"]"
   ]
  },
  {
   "cell_type": "code",
   "execution_count": 24,
   "id": "06b18625",
   "metadata": {},
   "outputs": [
    {
     "name": "stdout",
     "output_type": "stream",
     "text": [
      "('pranee', '1')\n",
      "('liki', '2')\n"
     ]
    }
   ],
   "source": [
    "for x in my_dict.items():\n",
    "    print(x)"
   ]
  },
  {
   "cell_type": "code",
   "execution_count": 25,
   "id": "ea5ad34e",
   "metadata": {},
   "outputs": [
    {
     "name": "stdout",
     "output_type": "stream",
     "text": [
      "{'pranee': '1', 'liki': '2'}\n"
     ]
    }
   ],
   "source": [
    "print(my_dict)"
   ]
  },
  {
   "cell_type": "code",
   "execution_count": 26,
   "id": "eaaed6b2",
   "metadata": {},
   "outputs": [],
   "source": [
    "#adding in dictionaries\n",
    "my_dict[\"heelo\"]=\"me\""
   ]
  },
  {
   "cell_type": "code",
   "execution_count": 27,
   "id": "956b5eea",
   "metadata": {},
   "outputs": [
    {
     "name": "stdout",
     "output_type": "stream",
     "text": [
      "{'pranee': '1', 'liki': '2', 'heelo': 'me'}\n"
     ]
    }
   ],
   "source": [
    "print(my_dict)"
   ]
  },
  {
   "cell_type": "code",
   "execution_count": 29,
   "id": "45e4c561",
   "metadata": {},
   "outputs": [],
   "source": [
    "#tuples\n",
    "#can change the values = mutable\n",
    "#no indexing"
   ]
  },
  {
   "cell_type": "code",
   "execution_count": 30,
   "id": "52c7978d",
   "metadata": {},
   "outputs": [],
   "source": [
    "my_tuple=(\"krish\",\"rash\")"
   ]
  },
  {
   "cell_type": "code",
   "execution_count": 31,
   "id": "e1e587ba",
   "metadata": {},
   "outputs": [
    {
     "name": "stdout",
     "output_type": "stream",
     "text": [
      "('krish', 'rash')\n"
     ]
    }
   ],
   "source": [
    "print(my_tuple)"
   ]
  },
  {
   "cell_type": "code",
   "execution_count": 1,
   "id": "cf1f2a13",
   "metadata": {},
   "outputs": [],
   "source": [
    "import pandas as pd"
   ]
  },
  {
   "cell_type": "code",
   "execution_count": 2,
   "id": "277b9762",
   "metadata": {},
   "outputs": [],
   "source": [
    "import numpy as np"
   ]
  },
  {
   "cell_type": "code",
   "execution_count": null,
   "id": "35449b42",
   "metadata": {},
   "outputs": [],
   "source": []
  }
 ],
 "metadata": {
  "kernelspec": {
   "display_name": "Python 3 (ipykernel)",
   "language": "python",
   "name": "python3"
  },
  "language_info": {
   "codemirror_mode": {
    "name": "ipython",
    "version": 3
   },
   "file_extension": ".py",
   "mimetype": "text/x-python",
   "name": "python",
   "nbconvert_exporter": "python",
   "pygments_lexer": "ipython3",
   "version": "3.11.3"
  }
 },
 "nbformat": 4,
 "nbformat_minor": 5
}
